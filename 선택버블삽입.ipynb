{
  "nbformat": 4,
  "nbformat_minor": 0,
  "metadata": {
    "colab": {
      "name": "선택버블삽입.ipynb",
      "provenance": [],
      "authorship_tag": "ABX9TyMMYiX6BuNfYsTJZbhY/oWH",
      "include_colab_link": true
    },
    "kernelspec": {
      "name": "python3",
      "display_name": "Python 3"
    },
    "language_info": {
      "name": "python"
    }
  },
  "cells": [
    {
      "cell_type": "markdown",
      "metadata": {
        "id": "view-in-github",
        "colab_type": "text"
      },
      "source": [
        "<a href=\"https://colab.research.google.com/github/youngwoonjeong/PythonClass/blob/main/%EC%84%A0%ED%83%9D%EB%B2%84%EB%B8%94%EC%82%BD%EC%9E%85.ipynb\" target=\"_parent\"><img src=\"https://colab.research.google.com/assets/colab-badge.svg\" alt=\"Open In Colab\"/></a>"
      ]
    },
    {
      "cell_type": "code",
      "metadata": {
        "id": "1S2anvf0VqLp"
      },
      "source": [
        "# 큐 queue와 스택 stack\n",
        "\n",
        "# 큐 queue 줄서기 먼저 온  사람이 먼저 백신 주사를 맞는다. FIFO\n",
        "# 1 2 3 4 in enqueue        1 2 3 4 out dequeue\n",
        "\n",
        "qu = [1,2,3,4]"
      ],
      "execution_count": 1,
      "outputs": []
    },
    {
      "cell_type": "code",
      "metadata": {
        "colab": {
          "base_uri": "https://localhost:8080/"
        },
        "id": "ZlKmEeWKXdq1",
        "outputId": "70141d66-3ef6-4868-a2f3-8d41b6db3386"
      },
      "source": [
        "qu.pop(0)\n",
        "qu"
      ],
      "execution_count": 2,
      "outputs": [
        {
          "output_type": "execute_result",
          "data": {
            "text/plain": [
              "[2, 3, 4]"
            ]
          },
          "metadata": {},
          "execution_count": 2
        }
      ]
    },
    {
      "cell_type": "code",
      "metadata": {
        "id": "t0HwF8CSXgeU"
      },
      "source": [
        "# 스택 stack 접시쌓기 나중에 올려진 접시가 먼저 나간다. LIFO\n",
        "# 1 2 3 4 in push         4 3 2 1 out pop\n",
        "st = [1,2,3,4]"
      ],
      "execution_count": 3,
      "outputs": []
    },
    {
      "cell_type": "code",
      "metadata": {
        "colab": {
          "base_uri": "https://localhost:8080/"
        },
        "id": "vCncYbKAXyS9",
        "outputId": "a84a2330-16c6-4d6e-8204-be54d1ac083c"
      },
      "source": [
        "st.pop()\n",
        "st"
      ],
      "execution_count": 4,
      "outputs": [
        {
          "output_type": "execute_result",
          "data": {
            "text/plain": [
              "[1, 2, 3]"
            ]
          },
          "metadata": {},
          "execution_count": 4
        }
      ]
    },
    {
      "cell_type": "code",
      "metadata": {
        "colab": {
          "base_uri": "https://localhost:8080/"
        },
        "id": "JKQFagvRXzuX",
        "outputId": "8bc94b8b-3571-4c56-d4d0-64527460a054"
      },
      "source": [
        "# 회문찾기 wow madam\n",
        "\n",
        "def palin(s):\n",
        "  qu = []\n",
        "  st = []\n",
        "\n",
        "  for x in s:\n",
        "    qu.append(x.lower())\n",
        "    st.append(x.lower())\n",
        "\n",
        "  while qu:\n",
        "    if qu.pop(0) != st.pop():\n",
        "      return False\n",
        "  return True\n",
        "\n",
        "palin(\"hello\")"
      ],
      "execution_count": 5,
      "outputs": [
        {
          "output_type": "execute_result",
          "data": {
            "text/plain": [
              "False"
            ]
          },
          "metadata": {},
          "execution_count": 5
        }
      ]
    },
    {
      "cell_type": "code",
      "metadata": {
        "id": "Db-ktS_bYQ8b"
      },
      "source": [
        "# 선택 정렬 (단순선택, 선택법)\n",
        "# 데이터를 정렬하는 알고리즘\n",
        "# 가장 작은 데이터를 선택하여 맨 앞부터 순서대로 정렬한다.\n",
        "\n",
        "3 1 4 2 5 \n",
        "1 2 3 4 5"
      ],
      "execution_count": null,
      "outputs": []
    },
    {
      "cell_type": "code",
      "metadata": {
        "colab": {
          "base_uri": "https://localhost:8080/"
        },
        "id": "v6FBI9hmYhIY",
        "outputId": "1b013e1b-1c63-4a76-a3af-2935ccf16f3b"
      },
      "source": [
        "# 가장 큰 데이터를 선택하여 맨 뒤부터 순서대로 정렬한다.\n",
        "def selectionSort(arr):\n",
        "  for i in range(len(arr),0,-1):\n",
        "    max = 0\n",
        "    for j in range(0, i):    # 나머지 값들 중 가장 큰 데이터를 선택아여\n",
        "      if arr[j] > arr[max]:\n",
        "        max = j\n",
        "      arr[max], arr[j] = arr[j], arr[max] # 제일 큰값과 자리교환\n",
        "      print(arr)\n",
        "  return arr\n",
        "\n",
        "\n",
        "\n",
        "arr = [3,1,4,2,5]\n",
        "print(selectionSort(arr))"
      ],
      "execution_count": 11,
      "outputs": [
        {
          "output_type": "stream",
          "name": "stdout",
          "text": [
            "[3, 1, 4, 2, 5]\n",
            "[1, 3, 4, 2, 5]\n",
            "[1, 3, 4, 2, 5]\n",
            "[1, 3, 2, 4, 5]\n",
            "[1, 3, 2, 4, 5]\n",
            "[1, 3, 2, 4, 5]\n",
            "[1, 3, 2, 4, 5]\n",
            "[1, 2, 3, 4, 5]\n",
            "[1, 2, 3, 4, 5]\n",
            "[1, 2, 3, 4, 5]\n",
            "[1, 2, 3, 4, 5]\n",
            "[1, 2, 3, 4, 5]\n",
            "[1, 2, 3, 4, 5]\n",
            "[1, 2, 3, 4, 5]\n",
            "[1, 2, 3, 4, 5]\n",
            "[1, 2, 3, 4, 5]\n"
          ]
        }
      ]
    },
    {
      "cell_type": "code",
      "metadata": {
        "id": "9GzztA4KYk9C"
      },
      "source": [
        "# 버블정렬 - 단순교환법\n",
        "# 오른쪽 끝부터 순서대로 인접한 공을 오름차순으로 정렬\n",
        "# 왼쪽 끝 요소부터 순서대로 하나씩 데이터를 오름차순으로 정렬된 요소 확정\n",
        "# array[i-1] < array[i]\n",
        "#  가장 큰 원소를 마지막으로 보내는 방법\n",
        "\n"
      ],
      "execution_count": null,
      "outputs": []
    },
    {
      "cell_type": "code",
      "metadata": {
        "colab": {
          "base_uri": "https://localhost:8080/"
        },
        "id": "zoxLrT6Gh0d5",
        "outputId": "e5d09e4c-1c75-4dc6-9a27-4208131f532e"
      },
      "source": [
        "def bubbleSort(arr):\n",
        "  for i in range(len(arr)-1,0,-1):\n",
        "    for j in range(0, i):\n",
        "      if arr[j] > arr[j+1]:\n",
        "        arr[j], arr[j+1] = arr[j+1], arr[j]  # 자리바꿈\n",
        "        print(arr)\n",
        "  return arr\n",
        "\n",
        "\n",
        "\n",
        "\n",
        "arr = [3,1,4,2,5]\n",
        "print(bubbleSort(arr))"
      ],
      "execution_count": 14,
      "outputs": [
        {
          "output_type": "stream",
          "name": "stdout",
          "text": [
            "[1, 3, 4, 2, 5]\n",
            "[1, 3, 2, 4, 5]\n",
            "[1, 2, 3, 4, 5]\n",
            "[1, 2, 3, 4, 5]\n"
          ]
        }
      ]
    },
    {
      "cell_type": "code",
      "metadata": {
        "colab": {
          "base_uri": "https://localhost:8080/"
        },
        "id": "ZctI3QL-io5b",
        "outputId": "f5af849c-f9ff-4211-d8e2-73f9f9c723d3"
      },
      "source": [
        "import random\n",
        "\n",
        "def bubbleSort(arr):\n",
        "  for i in range(len(arr)-1,0,-1):\n",
        "    for j in range(0, i):\n",
        "      if arr[j] > arr[j+1]:\n",
        "        arr[j], arr[j+1] = arr[j+1], arr[j]  # 자리바꿈\n",
        "        print(arr)\n",
        "  return arr\n",
        "\n",
        "\n",
        "\n",
        "arr = random.sample(range(1,50), 7)\n",
        "print(arr)\n",
        "print(bubbleSort(arr))"
      ],
      "execution_count": 15,
      "outputs": [
        {
          "output_type": "stream",
          "name": "stdout",
          "text": [
            "[40, 11, 37, 47, 8, 5, 34]\n",
            "[11, 40, 37, 47, 8, 5, 34]\n",
            "[11, 37, 40, 47, 8, 5, 34]\n",
            "[11, 37, 40, 8, 47, 5, 34]\n",
            "[11, 37, 40, 8, 5, 47, 34]\n",
            "[11, 37, 40, 8, 5, 34, 47]\n",
            "[11, 37, 8, 40, 5, 34, 47]\n",
            "[11, 37, 8, 5, 40, 34, 47]\n",
            "[11, 37, 8, 5, 34, 40, 47]\n",
            "[11, 8, 37, 5, 34, 40, 47]\n",
            "[11, 8, 5, 37, 34, 40, 47]\n",
            "[11, 8, 5, 34, 37, 40, 47]\n",
            "[8, 11, 5, 34, 37, 40, 47]\n",
            "[8, 5, 11, 34, 37, 40, 47]\n",
            "[5, 8, 11, 34, 37, 40, 47]\n",
            "[5, 8, 11, 34, 37, 40, 47]\n"
          ]
        }
      ]
    },
    {
      "cell_type": "code",
      "metadata": {
        "colab": {
          "base_uri": "https://localhost:8080/"
        },
        "id": "ihDMCoU5j184",
        "outputId": "3095825c-db13-42d8-8fb9-d8c28d906d72"
      },
      "source": [
        "# 삽입 정렬 - 기본 삽입법 , 단순삽입법\n",
        "# 올바른 순서가 되도록 데이터 삽입\n",
        "# 0번칸은 정렬된(가정)  1~나머지칸은 정렬되지 않은\n",
        "\n",
        "\n",
        "def insertionSort(arr):\n",
        "  for i in range(1,len(arr)):\n",
        "    while i > 0 and arr[i] < arr[i-1]:\n",
        "      arr[1] , arr[i-1] = arr[i-1], arr[1]\n",
        "      i -= 1\n",
        "  return arr\n",
        "\n",
        "\n",
        "arr = [3,1,4,2,5]\n",
        "print(insertionSort(arr))"
      ],
      "execution_count": 23,
      "outputs": [
        {
          "output_type": "stream",
          "name": "stdout",
          "text": [
            "[1, 4, 3, 2, 5]\n"
          ]
        }
      ]
    },
    {
      "cell_type": "code",
      "metadata": {
        "colab": {
          "base_uri": "https://localhost:8080/"
        },
        "id": "qLPUgzTuuvAd",
        "outputId": "33a1f230-6b56-4c52-ab77-0de8be3b2035"
      },
      "source": [
        "# 퀵 정렬 - 기준값을 설정하여 그 값보다 작은 그룹과 큰 그룹으로 계속 나눈다.\n",
        "# 기준값을 경계로 데이터를 대소로 나누는 처리\n",
        "# 나눈 데이터에 대해 반복적으로 똑같은 작업 실행\n",
        "\n",
        "def quickSort(arr):\n",
        "  n = len(arr)\n",
        "  if n <= 1:\n",
        "    return arr\n",
        "  pivot = arr[-1]\n",
        "  g1 = []\n",
        "  g2 = []\n",
        "  for i in range(0, n-1):\n",
        "    if arr[i] < pivot:\n",
        "      g1.append(arr[i])\n",
        "    else:\n",
        "      g2.append(arr[i])\n",
        "  return quickSort(g1) + [pivot] + quickSort(g2)\n",
        " \n",
        "    \n",
        "\n",
        "\n",
        "arr = [3,1,4,2,5,6,8,7,10,9]\n",
        "print(quickSort(arr))"
      ],
      "execution_count": 26,
      "outputs": [
        {
          "output_type": "stream",
          "name": "stdout",
          "text": [
            "[1, 2, 3, 4, 5, 6, 7, 8, 9, 10]\n"
          ]
        }
      ]
    },
    {
      "cell_type": "code",
      "metadata": {
        "id": "36r_uw2p1OVp"
      },
      "source": [
        ""
      ],
      "execution_count": null,
      "outputs": []
    }
  ]
}